{
 "cells": [
  {
   "cell_type": "code",
   "execution_count": 5,
   "id": "34f230c5",
   "metadata": {},
   "outputs": [],
   "source": [
    "import sys, os\n",
    "from pathlib import Path\n",
    "\n",
    "# Use current working directory instead of __file__\n",
    "FILE_DIR = Path().resolve()\n",
    "ROOT = FILE_DIR.joinpath(\"../..\").resolve()\n",
    "\n",
    "# Add to sys.path\n",
    "sys.path.insert(0, str(ROOT))\n",
    "\n",
    "from datasets import load_dataset\n",
    "from src.helper.gsm8k_utils import extract_final_answer, format_prompt, FEW_SHOT_PREFIX, extract_sentence_components"
   ]
  },
  {
   "cell_type": "code",
   "execution_count": 6,
   "id": "e131880a",
   "metadata": {},
   "outputs": [
    {
     "name": "stdout",
     "output_type": "stream",
     "text": [
      "None\n",
      "4\n",
      "10\n",
      "100\n",
      "50\n",
      "1\n",
      "None\n",
      "1\n",
      "3\n",
      "4\n",
      "\n",
      "2\n",
      "None\n",
      "1\n",
      "1\n",
      "50\n",
      "1\n",
      "50\n",
      "6\n",
      "3\n",
      "None\n"
     ]
    }
   ],
   "source": [
    "dataset = load_dataset(\"marcellobullo/gpt2-large-gsm8k-raw\", split=\"train\")\n",
    "\n",
    "n_test = 10\n",
    "for i in range(n_test):\n",
    "    text = dataset[i][\"response_0\"]\n",
    "    answer = extract_final_answer(text)\n",
    "    print(answer)\n",
    "\n",
    "print()\n",
    "\n",
    "for i in range(n_test):\n",
    "    text = dataset[i][\"response_1\"]\n",
    "    answer = extract_final_answer(text)\n",
    "    print(answer)\n",
    "\n"
   ]
  },
  {
   "cell_type": "code",
   "execution_count": 8,
   "id": "cf1232e3",
   "metadata": {},
   "outputs": [
    {
     "data": {
      "text/plain": [
       "\"Q: Oshea bought 200 basil seeds. He wants to plant them in planters. He has 4 large planters that can hold 20 seeds each. He also has small planters that can hold 4 seeds each. How many small planters will he need to plant all the basil seeds? Let's think step by step and provide the final answer prefixed by ####.\""
      ]
     },
     "execution_count": 8,
     "metadata": {},
     "output_type": "execute_result"
    }
   ],
   "source": [
    "\n",
    "text = \"\"\"\n",
    "These are examples of how to solve math problems step by step:\n",
    "\n",
    "Q: If there are 3 apples and you eat one, how many are left? A: Let's think step by step. There are 3 apples. You eat one. So 3 - 1 = 2. #### The final answer is 2.\n",
    "\n",
    "Q: Tom had 4 pencils. He gave 1 to Sarah and bought 3 more. How many does he have now? A: Let's think step by step. He had 4 and gave away 1, so 4 - 1 = 3. Then he bought 3, so 3 + 3 = 6. #### The final answer is 6.\n",
    "\n",
    "The following is the only question you need to answer:\n",
    "\n",
    "Q: Katie has 13 pink marbles. She has 9 fewer orange marbles than pink marbles. She has 4 times as many purple marbles as orange marbles. How many marbles does Katie have in all? Let's think step by step and provide the final answer prefixed by ####.\n",
    "\n",
    "A:  Katie has 13 pink marbles. She has 9 fewer orange marbles than pink marbles, which means she has 13 - 9 = 4 orange marbles. She has 4 times as many purple marbles as orange marbles, which means she has 4 * 4 = 16 purple marbles. So, Katie has a total of 13 pink + 4 orange + 16 purple = 33 marbles. #### The final answer is 33.\n",
    "\"\"\"\n",
    "\n",
    "text = \"\"\"\n",
    "These are examples of how to solve math problems step by step:\n",
    "\n",
    "Q: If there are 3 apples and you eat one, how many are left? \n",
    "A: Let's think step by step. There are 3 apples. You eat one. So 3 - 1 = 2.\n",
    "#### The final answer is 2.\n",
    "\n",
    "Q: Tom had 4 pencils. He gave 1 to Sarah and bought 3 more. How many does he have now? \n",
    "A: Let's think step by step. He had 4 and gave away 1, so 4 - 1 = 3. Then he bought 3, so 3 + 3 = 6. \n",
    "#### The final answer is 6.  \n",
    "\n",
    "The following is the only question you need to answer:  \n",
    "\n",
    "Q: Mimi picked up 2 dozen seashells on the beach. Kyle found twice as many shells as Mimi and put them in his pocket. Leigh grabbed one-third of the shells that Kyle found. How many seashells did Leigh have? Let's think step by step and provide the final answer prefixed by ####.\n",
    "A: On the beach, Mimi picked up 2 dozen seashells. One dozen is 12, so Mimi picked up \\(2 \\times 12 = 24\\) seashells. Kyle found twice as many seashells as Mimi, so he found \\(2 \\times 24 = 48\\) shells. Leigh grabbed one-third of Kyle's shells, so she got \\(\\frac{48}{3} = 16\\) shells. Therefore, the final answer is \\boxed{16}.\n",
    "\n",
    "#7. What volume of water, in liters, will take 11 grams of carbon dioxide to fully dissolve?\n",
    "\"\"\"\n",
    "\n",
    "text = \"\"\"\n",
    "These are examples of how to solve math problems step by step:\n",
    "\n",
    "Q: If there are 3 apples and you eat one, how many are left?\n",
    "A: Let's think step by step. There are 3 apples. You eat one. So 3 - 1 = 2. \n",
    "#### The final answer is 2.  \n",
    "\n",
    "Q: Tom had 4 pencils. He gave 1 to Sarah and bought 3 more. How many does he have now? \n",
    "A: Let's think step by step. He had 4 and gave away 1, so 4 - 1 = 3. Then he bought 3, so 3 + 3 = 6. \n",
    "#### The final answer is 6.  \n",
    "\n",
    "The following is the only question you need to answer:\n",
    "\n",
    "Q: Oshea bought 200 basil seeds. He wants to plant them in planters. He has 4 large planters that can hold 20 seeds each. He also has small planters that can hold 4 seeds each. How many small planters will he need to plant all the basil seeds? Let's think step by step and provide the final answer prefixed by ####.\n",
    "A: First, calculate how many seeds 4 large planters can hold. Each large planter holds 20 seeds so 4 * 20 = 80. Then subtract the number of seeds in the large planters from the total number of seeds 200 - 80 = 120. Then divide the remaining seeds by the capacity of the small planters (each can hold 4 seeds) to find out how many small planters are needed. 120 / 4 = 30. So Oshea will need 30 small planters.\n",
    "\n",
    "#### The final answer is 30.\n",
    "\n",
    "Let's implement this in Python to verify the solution.\n",
    "```python\n",
    "# Step-by-step calculation\n",
    "# Initial information\n",
    "total_seeds = 200\n",
    "large_planter_capacity = 20\n",
    "num_large_planters = 4\n",
    "small_planter_capacity = 4\n",
    "\n",
    "# Calculate the number of seeds that can be planted in large planters\n",
    "seeds_in_large_planters = large_planter_capacity * num_large_planters\n",
    " \n",
    "# Calculate the remaining seeds after planting in large planters\n",
    "remaining_seeds = total_seeds - seeds_in_large_planters\n",
    " \n",
    "# Calculate the number of\n",
    "\"\"\"\n",
    "\n",
    "question, response = extract_sentence_components(text)\n",
    "\n",
    "question"
   ]
  },
  {
   "cell_type": "code",
   "execution_count": 9,
   "id": "1189fe18",
   "metadata": {},
   "outputs": [
    {
     "data": {
      "text/plain": [
       "\"First, calculate how many seeds 4 large planters can hold. Each large planter holds 20 seeds so 4 * 20 = 80. Then subtract the number of seeds in the large planters from the total number of seeds 200 - 80 = 120. Then divide the remaining seeds by the capacity of the small planters (each can hold 4 seeds) to find out how many small planters are needed. 120 / 4 = 30. So Oshea will need 30 small planters.\\n\\n#### The final answer is 30.\\n\\nLet's implement this in Python to verify the solution.\\n```python\\n# Step-by-step calculation\\n# Initial information\\ntotal_seeds = 200\\nlarge_planter_capacity = 20\\nnum_large_planters = 4\\nsmall_planter_capacity = 4\\n\\n# Calculate the number of seeds that can be planted in large planters\\nseeds_in_large_planters = large_planter_capacity * num_large_planters\\n \\n# Calculate the remaining seeds after planting in large planters\\nremaining_seeds = total_seeds - seeds_in_large_planters\\n \\n# Calculate the number of\""
      ]
     },
     "execution_count": 9,
     "metadata": {},
     "output_type": "execute_result"
    }
   ],
   "source": [
    "response"
   ]
  },
  {
   "cell_type": "code",
   "execution_count": 10,
   "id": "c48569c6",
   "metadata": {},
   "outputs": [
    {
     "data": {
      "text/plain": [
       "30"
      ]
     },
     "execution_count": 10,
     "metadata": {},
     "output_type": "execute_result"
    }
   ],
   "source": [
    "extract_final_answer(text)"
   ]
  },
  {
   "cell_type": "code",
   "execution_count": null,
   "id": "f1ab4f45",
   "metadata": {},
   "outputs": [],
   "source": []
  }
 ],
 "metadata": {
  "kernelspec": {
   "display_name": "rlhf",
   "language": "python",
   "name": "python3"
  },
  "language_info": {
   "codemirror_mode": {
    "name": "ipython",
    "version": 3
   },
   "file_extension": ".py",
   "mimetype": "text/x-python",
   "name": "python",
   "nbconvert_exporter": "python",
   "pygments_lexer": "ipython3",
   "version": "3.11.11"
  }
 },
 "nbformat": 4,
 "nbformat_minor": 5
}
